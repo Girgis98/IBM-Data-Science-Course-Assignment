{
 "cells": [
  {
   "cell_type": "markdown",
   "metadata": {},
   "source": [
    "<center>\n",
    "    <img src=\"https://s3-api.us-geo.objectstorage.softlayer.net/cf-courses-data/CognitiveClass/Logos/organization_logo/organization_logo.png\" width=\"300\" alt=\"cognitiveclass.ai logo\"  />\n",
    "</center>\n"
   ]
  },
  {
   "cell_type": "markdown",
   "metadata": {},
   "source": [
    "#### Add your code below following the instructions given in the course\n"
   ]
  },
  {
   "cell_type": "markdown",
   "metadata": {},
   "source": [
    "# My Jupyter Notebook on IBM Watson Studio"
   ]
  },
  {
   "cell_type": "markdown",
   "metadata": {},
   "source": [
    "**Girgis Mamdouh**<br>\n",
    "Machine Learning / Data Engineer"
   ]
  },
  {
   "cell_type": "markdown",
   "metadata": {},
   "source": [
    "*I am interested in data science because it contains data refinery , cleaning , formatting , basic understanding and statistical analysis which can be a first step before using ML models and sometimes can be proven enough on its own to make predictions*"
   ]
  },
  {
   "cell_type": "markdown",
   "metadata": {},
   "source": [
    "### This is just a simple code which initializes a variable and increment it by one"
   ]
  },
  {
   "cell_type": "code",
   "execution_count": 1,
   "metadata": {},
   "outputs": [],
   "source": [
    "i = 0\n",
    "i += 1"
   ]
  },
  {
   "cell_type": "markdown",
   "metadata": {},
   "source": [
    "- Item list\n",
    "     - first item\n",
    "     - second item\n",
    "     \n",
    "<hr>     \n",
    "\n",
    "1. Numbered list\n",
    "     1. item\n",
    "     2. item\n",
    "\n",
    "<hr>\n",
    "\n",
    "__[instructions page](https://www.coursera.org/learn/open-source-tools-for-data-science/ungradedWidget/c1F5I/instructions-create-and-share-your-jupyter-notebook)__\n",
    "\n",
    "<hr>\n",
    "\n",
    "<table>\n",
    "    <tr>\n",
    "        <td>\n",
    "            data\n",
    "        </td>   \n",
    "        <td>\n",
    "            data2\n",
    "        </td> \n",
    "        <td>\n",
    "            data3\n",
    "        </td> \n",
    "    </tr>  \n",
    "    <tr>\n",
    "        <td>\n",
    "            data\n",
    "        </td>   \n",
    "        <td>\n",
    "            data2\n",
    "        </td> \n",
    "        <td>\n",
    "            data3\n",
    "        </td> \n",
    "    </tr>\n",
    "</table>    "
   ]
  },
  {
   "cell_type": "code",
   "execution_count": null,
   "metadata": {},
   "outputs": [],
   "source": []
  }
 ],
 "metadata": {
  "kernelspec": {
   "display_name": "Python",
   "language": "python",
   "name": "conda-env-python-py"
  },
  "language_info": {
   "codemirror_mode": {
    "name": "ipython",
    "version": 3
   },
   "file_extension": ".py",
   "mimetype": "text/x-python",
   "name": "python",
   "nbconvert_exporter": "python",
   "pygments_lexer": "ipython3",
   "version": "3.7.12"
  }
 },
 "nbformat": 4,
 "nbformat_minor": 4
}
